{
 "cells": [
  {
   "cell_type": "code",
   "execution_count": 1,
   "id": "a30f833c",
   "metadata": {},
   "outputs": [
    {
     "name": "stdout",
     "output_type": "stream",
     "text": [
      "You: \"Hello\": \"Hi there! How can I help you?\"\n",
      "Chatbot: Sorry, I don't understand that.\n",
      "You: Hello\n",
      "Chatbot: Hi there! How can I help you?\n",
      "You: How are you?\n",
      "Chatbot: I'm just a bot, but I'm doing great! How about you?\n",
      "You: good\n",
      "Chatbot: Sorry, I don't understand that.\n",
      "You: Bye\n",
      "Chatbot: Goodbye! Have a great day!\n"
     ]
    }
   ],
   "source": [
    "def chatbot():\n",
    "    responses = {\n",
    "        \"Hello\": \"Hi there! How can I help you?\",\n",
    "        \"How are you?\": \"I'm just a bot, but I'm doing great! How about you?\",\n",
    "        \"Bye\": \"Goodbye! Have a great day!\"\n",
    "    }\n",
    "    \n",
    "    while True:\n",
    "        user_input = input(\"You: \")\n",
    "        if user_input in responses:\n",
    "            print(\"Chatbot:\", responses[user_input])\n",
    "            if user_input == \"Bye\":\n",
    "                break\n",
    "        else:\n",
    "            print(\"Chatbot: Sorry, I don't understand that.\")\n",
    "\n",
    "if __name__ == \"__main__\":\n",
    "    chatbot()\n"
   ]
  },
  {
   "cell_type": "code",
   "execution_count": null,
   "id": "128bcc59",
   "metadata": {},
   "outputs": [],
   "source": []
  }
 ],
 "metadata": {
  "kernelspec": {
   "display_name": "Python 3 (ipykernel)",
   "language": "python",
   "name": "python3"
  },
  "language_info": {
   "codemirror_mode": {
    "name": "ipython",
    "version": 3
   },
   "file_extension": ".py",
   "mimetype": "text/x-python",
   "name": "python",
   "nbconvert_exporter": "python",
   "pygments_lexer": "ipython3",
   "version": "3.10.5"
  }
 },
 "nbformat": 4,
 "nbformat_minor": 5
}
