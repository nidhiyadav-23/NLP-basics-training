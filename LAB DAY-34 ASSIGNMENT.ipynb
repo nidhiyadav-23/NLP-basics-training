{
 "cells": [
  {
   "cell_type": "code",
   "execution_count": 1,
   "id": "8d6fb26d",
   "metadata": {},
   "outputs": [
    {
     "name": "stdout",
     "output_type": "stream",
     "text": [
      "Bag of Words Representation:\n",
      "['amazing' 'deep' 'fun' 'is' 'learning' 'love' 'machine']\n",
      "[[0 0 0 0 1 1 1]\n",
      " [0 0 1 1 1 0 1]\n",
      " [1 1 0 1 1 0 0]]\n",
      "\n",
      "TF-IDF Representation:\n",
      "['amazing' 'deep' 'fun' 'is' 'learning' 'love' 'machine']\n",
      "[[0.         0.         0.         0.         0.42544054 0.72033345\n",
      "  0.54783215]\n",
      " [0.         0.         0.63174505 0.4804584  0.37311881 0.\n",
      "  0.4804584 ]\n",
      " [0.5844829  0.5844829  0.         0.44451431 0.34520502 0.\n",
      "  0.        ]]\n"
     ]
    }
   ],
   "source": [
    "from sklearn.feature_extraction.text import CountVectorizer, TfidfVectorizer\n",
    "\n",
    "documents = [\n",
    "    \"I love machine learning\",\n",
    "    \"Machine learning is fun\",\n",
    "    \"Deep learning is amazing\"\n",
    "]\n",
    "\n",
    "count_vectorizer = CountVectorizer()\n",
    "bow_matrix = count_vectorizer.fit_transform(documents)\n",
    "bow_array = bow_matrix.toarray()\n",
    "bow_feature_names = count_vectorizer.get_feature_names_out()\n",
    "print(\"Bag of Words Representation:\")\n",
    "print(bow_feature_names)\n",
    "print(bow_array)\n",
    "tfidf_vectorizer = TfidfVectorizer()\n",
    "tfidf_matrix = tfidf_vectorizer.fit_transform(documents)\n",
    "tfidf_array = tfidf_matrix.toarray()\n",
    "tfidf_feature_names = tfidf_vectorizer.get_feature_names_out()\n",
    "print(\"\\nTF-IDF Representation:\")\n",
    "print(tfidf_feature_names)\n",
    "print(tfidf_array)"
   ]
  },
  {
   "cell_type": "code",
   "execution_count": null,
   "id": "c9715481",
   "metadata": {},
   "outputs": [],
   "source": []
  }
 ],
 "metadata": {
  "kernelspec": {
   "display_name": "Python 3 (ipykernel)",
   "language": "python",
   "name": "python3"
  },
  "language_info": {
   "codemirror_mode": {
    "name": "ipython",
    "version": 3
   },
   "file_extension": ".py",
   "mimetype": "text/x-python",
   "name": "python",
   "nbconvert_exporter": "python",
   "pygments_lexer": "ipython3",
   "version": "3.9.12"
  }
 },
 "nbformat": 4,
 "nbformat_minor": 5
}
