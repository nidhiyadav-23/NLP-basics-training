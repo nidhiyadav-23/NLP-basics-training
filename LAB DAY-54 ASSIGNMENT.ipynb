{
 "cells": [
  {
   "cell_type": "code",
   "execution_count": null,
   "id": "aef67300",
   "metadata": {},
   "outputs": [],
   "source": [
    "Fundamental Concepts of Cloud Computing\n",
    "Cloud computing is the delivery of computing services—including servers, storage, databases, networking, software, and analytics—over the internet (\"the cloud\") to offer faster innovation, flexible resources, and economies of scale. Instead of owning and maintaining physical data centers or servers, users can access these services on a pay-as-you-go basis.\n",
    "\n",
    "Advantages of Cloud Computing\n",
    "Cost Efficiency – Reduces the cost of purchasing hardware and maintaining on-premises infrastructure.\n",
    "Scalability & Flexibility – Allows businesses to scale resources up or down based on demand.\n",
    "Accessibility – Services are accessible from anywhere with an internet connection.\n",
    "Security – Cloud providers offer built-in security features and compliance standards.\n",
    "Disaster Recovery – Cloud-based backups ensure business continuity in case of failures.\n",
    "Automatic Updates – Regular software and security updates are managed by the provider.\n",
    "Types of Cloud Deployment Models\n",
    "Public Cloud – Provided by third-party providers (e.g., AWS, Microsoft Azure, Google Cloud) and accessible over the internet.\n",
    "Example: Google Drive for storing personal files.\n",
    "Private Cloud – Dedicated infrastructure for a single organization, offering enhanced security and control.\n",
    "Example: A bank using an in-house cloud for secure financial data management.\n",
    "Hybrid Cloud – Combines public and private clouds, allowing data and applications to be shared between them.\n",
    "Example: A company running customer-facing applications on a public cloud but storing sensitive data in a private cloud.\n",
    "Multi-Cloud – Involves using multiple cloud providers to reduce dependence on a single vendor.\n",
    "Example: A company using AWS for computing and Google Cloud for AI/ML workloads.\n",
    "Cloud Service Models\n",
    "Infrastructure as a Service (IaaS) – Provides virtualized computing resources over the internet, such as servers, storage, and networking.\n",
    "Example: Amazon EC2, Microsoft Azure Virtual Machines.\n",
    "Platform as a Service (PaaS) – Provides a development environment with tools, libraries, and infrastructure to build applications.\n",
    "Example: Google App Engine, Heroku.\n",
    "Software as a Service (SaaS) – Delivers software applications over the internet on a subscription basis.\n",
    "Example: Gmail, Microsoft 365, Dropbox.\n",
    "Real-World Examples of Cloud Computing Usage\n",
    "E-commerce: Amazon and Shopify use cloud computing to handle large-scale online transactions.\n",
    "Streaming Services: Netflix and Spotify leverage cloud infrastructure to stream content globally.\n",
    "Healthcare: Hospitals use cloud-based Electronic Health Records (EHR) systems for patient management.\n",
    "AI & ML: Google Cloud AI and AWS AI services power applications like voice recognition and predictive analytics.\n",
    "Collaboration Tools: Google Workspace and Microsoft Teams facilitate remote work.\n",
    "Cloud computing is transforming industries by enabling faster innovation, reducing costs, and improving accessibility to technology. "
   ]
  }
 ],
 "metadata": {
  "kernelspec": {
   "display_name": "Python 3 (ipykernel)",
   "language": "python",
   "name": "python3"
  },
  "language_info": {
   "codemirror_mode": {
    "name": "ipython",
    "version": 3
   },
   "file_extension": ".py",
   "mimetype": "text/x-python",
   "name": "python",
   "nbconvert_exporter": "python",
   "pygments_lexer": "ipython3",
   "version": "3.10.5"
  }
 },
 "nbformat": 4,
 "nbformat_minor": 5
}
