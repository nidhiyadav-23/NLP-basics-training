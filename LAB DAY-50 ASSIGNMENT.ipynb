{
 "cells": [
  {
   "cell_type": "code",
   "execution_count": 1,
   "id": "e518fbc2",
   "metadata": {},
   "outputs": [
    {
     "name": "stderr",
     "output_type": "stream",
     "text": [
      "C:\\Users\\vavil\\AppData\\Local\\Programs\\Python\\Python310\\lib\\site-packages\\numpy\\_distributor_init.py:30: UserWarning: loaded more than 1 DLL from .libs:\n",
      "C:\\Users\\vavil\\AppData\\Local\\Programs\\Python\\Python310\\lib\\site-packages\\numpy\\.libs\\libopenblas64__v0.3.21-gcc_10_3_0.dll\n",
      "C:\\Users\\vavil\\AppData\\Local\\Programs\\Python\\Python310\\lib\\site-packages\\numpy\\.libs\\libopenblas64__v0.3.23-246-g3d31191b-gcc_10_3_0.dll\n",
      "  warnings.warn(\"loaded more than 1 DLL from .libs:\"\n"
     ]
    },
    {
     "name": "stdout",
     "output_type": "stream",
     "text": [
      "Query: [0.37454012 0.95071431 0.73199394 0.59865848]\n",
      "Key: [0.15601864 0.15599452 0.05808361 0.86617615]\n",
      "Value: [0.60111501 0.70807258 0.02058449 0.96990985]\n",
      "Dot Product Score: 0.7678020130417939\n",
      "Attention Weight: 1.0\n",
      "Attention Output: [0.60111501 0.70807258 0.02058449 0.96990985]\n"
     ]
    }
   ],
   "source": [
    "import numpy as np\n",
    "\n",
    "def attention_scores():\n",
    "    np.random.seed(42)  # For reproducibility\n",
    "    \n",
    "    # Define dimensions\n",
    "    d_k = 4  # Dimension of key/query vectors\n",
    "    \n",
    "    # Generate random query, key, and value vectors\n",
    "    query = np.random.rand(d_k)\n",
    "    key = np.random.rand(d_k)\n",
    "    value = np.random.rand(d_k)\n",
    "    \n",
    "    # Compute dot product of query and key\n",
    "    score = np.dot(query, key)\n",
    "    \n",
    "    # Compute attention weights using softmax\n",
    "    attention_weight = np.exp(score) / np.sum(np.exp(score))\n",
    "    \n",
    "    # Compute final attention output\n",
    "    attention_output = attention_weight * value\n",
    "    \n",
    "    print(\"Query:\", query)\n",
    "    print(\"Key:\", key)\n",
    "    print(\"Value:\", value)\n",
    "    print(\"Dot Product Score:\", score)\n",
    "    print(\"Attention Weight:\", attention_weight)\n",
    "    print(\"Attention Output:\", attention_output)\n",
    "\n",
    "if __name__ == \"__main__\":\n",
    "    attention_scores()\n"
   ]
  },
  {
   "cell_type": "code",
   "execution_count": null,
   "id": "282ff02a",
   "metadata": {},
   "outputs": [],
   "source": []
  }
 ],
 "metadata": {
  "kernelspec": {
   "display_name": "Python 3 (ipykernel)",
   "language": "python",
   "name": "python3"
  },
  "language_info": {
   "codemirror_mode": {
    "name": "ipython",
    "version": 3
   },
   "file_extension": ".py",
   "mimetype": "text/x-python",
   "name": "python",
   "nbconvert_exporter": "python",
   "pygments_lexer": "ipython3",
   "version": "3.10.5"
  }
 },
 "nbformat": 4,
 "nbformat_minor": 5
}
