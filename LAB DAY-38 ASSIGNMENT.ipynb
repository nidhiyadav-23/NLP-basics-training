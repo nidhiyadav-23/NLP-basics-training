{
 "cells": [
  {
   "cell_type": "code",
   "execution_count": 1,
   "id": "e655104f",
   "metadata": {},
   "outputs": [
    {
     "name": "stdout",
     "output_type": "stream",
     "text": [
      "The predicted category for the text 'I just received a message about winning a lottery' is: Spam\n"
     ]
    }
   ],
   "source": [
    "from sklearn.feature_extraction.text import TfidfVectorizer\n",
    "from sklearn.tree import DecisionTreeClassifier\n",
    "from sklearn.pipeline import make_pipeline\n",
    "\n",
    "documents = [\n",
    "    \"Spam messages are annoying\", \n",
    "    \"I won a lottery\", \n",
    "    \"This is a normal message\", \n",
    "    \"Congratulations! You've won a prize\", \n",
    "    \"This is not spam\", \n",
    "    \"Get rich quick schemes are spam\"\n",
    "]\n",
    "\n",
    "labels = [\n",
    "    \"Spam\", \n",
    "    \"Spam\", \n",
    "    \"Normal\", \n",
    "    \"Spam\", \n",
    "    \"Normal\", \n",
    "    \"Spam\"\n",
    "]\n",
    "\n",
    "model = make_pipeline(TfidfVectorizer(), DecisionTreeClassifier())\n",
    "\n",
    "model.fit(documents, labels)\n",
    "\n",
    "new_text = [\"I just received a message about winning a lottery\"]\n",
    "\n",
    "predicted_category = model.predict(new_text)\n",
    "\n",
    "print(f\"The predicted category for the text '{new_text[0]}' is: {predicted_category[0]}\")"
   ]
  },
  {
   "cell_type": "code",
   "execution_count": null,
   "id": "3bfc21a3",
   "metadata": {},
   "outputs": [],
   "source": []
  }
 ],
 "metadata": {
  "kernelspec": {
   "display_name": "Python 3 (ipykernel)",
   "language": "python",
   "name": "python3"
  },
  "language_info": {
   "codemirror_mode": {
    "name": "ipython",
    "version": 3
   },
   "file_extension": ".py",
   "mimetype": "text/x-python",
   "name": "python",
   "nbconvert_exporter": "python",
   "pygments_lexer": "ipython3",
   "version": "3.9.12"
  }
 },
 "nbformat": 4,
 "nbformat_minor": 5
}
