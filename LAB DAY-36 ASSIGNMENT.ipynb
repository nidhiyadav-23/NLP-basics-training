{
 "cells": [
  {
   "cell_type": "code",
   "execution_count": 1,
   "id": "a53ce6dd",
   "metadata": {},
   "outputs": [
    {
     "name": "stdout",
     "output_type": "stream",
     "text": [
      "The predicted category for the text 'I love coding in Python' is: Programming\n"
     ]
    }
   ],
   "source": [
    "from sklearn.feature_extraction.text import CountVectorizer\n",
    "from sklearn.naive_bayes import MultinomialNB\n",
    "from sklearn.pipeline import make_pipeline\n",
    "documents = [\n",
    "    \"I love programming\", \n",
    "    \"Python is great\", \n",
    "    \"Machine learning is amazing\", \n",
    "    \"I enjoy coding\", \n",
    "    \"Data science is fun\", \n",
    "    \"Artificial intelligence is the future\"\n",
    "]\n",
    "\n",
    "\n",
    "labels = [\n",
    "    \"Programming\", \n",
    "    \"Programming\", \n",
    "    \"Machine Learning\", \n",
    "    \"Programming\", \n",
    "    \"Data Science\", \n",
    "    \"Machine Learning\"\n",
    "]\n",
    "\n",
    "model = make_pipeline(CountVectorizer(), MultinomialNB())\n",
    "\n",
    "model.fit(documents, labels)\n",
    "\n",
    "new_text = [\"I love coding in Python\"]\n",
    "\n",
    "predicted_category = model.predict(new_text)\n",
    "print(f\"The predicted category for the text '{new_text[0]}' is: {predicted_category[0]}\")"
   ]
  },
  {
   "cell_type": "code",
   "execution_count": null,
   "id": "bd81c0d5",
   "metadata": {},
   "outputs": [],
   "source": []
  }
 ],
 "metadata": {
  "kernelspec": {
   "display_name": "Python 3 (ipykernel)",
   "language": "python",
   "name": "python3"
  },
  "language_info": {
   "codemirror_mode": {
    "name": "ipython",
    "version": 3
   },
   "file_extension": ".py",
   "mimetype": "text/x-python",
   "name": "python",
   "nbconvert_exporter": "python",
   "pygments_lexer": "ipython3",
   "version": "3.9.12"
  }
 },
 "nbformat": 4,
 "nbformat_minor": 5
}
