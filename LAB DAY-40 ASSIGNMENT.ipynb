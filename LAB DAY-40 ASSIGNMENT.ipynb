{
 "cells": [
  {
   "cell_type": "code",
   "execution_count": 1,
   "id": "3f5ee960",
   "metadata": {},
   "outputs": [
    {
     "name": "stdout",
     "output_type": "stream",
     "text": [
      "Accuracy: 0.0\n",
      "'Buy now and win a prize' is classified as Not Spam\n",
      "'Normal email content' is classified as Not Spam\n",
      "'Congratulations, you won!' is classified as Not Spam\n"
     ]
    }
   ],
   "source": [
    "from sklearn.ensemble import RandomForestClassifier\n",
    "from sklearn.feature_extraction.text import TfidfVectorizer\n",
    "from sklearn.model_selection import train_test_split\n",
    "from sklearn.metrics import accuracy_score\n",
    "\n",
    "# Sample dataset (spam=1, non-spam=0)\n",
    "data = [\n",
    "    (\"Buy now and win a prize\", 1),\n",
    "    (\"Congratulations, you won!\", 1),\n",
    "    (\"Limited offer, act fast\", 1),\n",
    "    (\"Normal email content\", 0),\n",
    "    (\"Meeting scheduled for tomorrow\", 0),\n",
    "    (\"Your invoice is attached\", 0)\n",
    "]\n",
    "\n",
    "# Split data into texts and labels\n",
    "texts, labels = zip(*data)\n",
    "\n",
    "# Convert text data into TF-IDF features\n",
    "vectorizer = TfidfVectorizer()\n",
    "X = vectorizer.fit_transform(texts)\n",
    "\n",
    "# Split into training and testing sets\n",
    "X_train, X_test, y_train, y_test = train_test_split(X, labels, test_size=0.3, random_state=42)\n",
    "\n",
    "# Train the RandomForestClassifier\n",
    "clf = RandomForestClassifier(n_estimators=100, random_state=42)\n",
    "clf.fit(X_train, y_train)\n",
    "\n",
    "# Make predictions\n",
    "y_pred = clf.predict(X_test)\n",
    "\n",
    "# Print accuracy\n",
    "print(\"Accuracy:\", accuracy_score(y_test, y_pred))\n",
    "\n",
    "# Classify new text samples\n",
    "new_texts = [\"Buy now and win a prize\", \"Normal email content\", \"Congratulations, you won!\"]\n",
    "new_X = vectorizer.transform(new_texts)\n",
    "predictions = clf.predict(new_X)\n",
    "\n",
    "# Print predictions\n",
    "for text, pred in zip(new_texts, predictions):\n",
    "    print(f\"'{text}' is classified as {'Spam' if pred == 1 else 'Not Spam'}\")\n"
   ]
  },
  {
   "cell_type": "code",
   "execution_count": null,
   "id": "21bb97f8",
   "metadata": {},
   "outputs": [],
   "source": []
  }
 ],
 "metadata": {
  "kernelspec": {
   "display_name": "Python 3 (ipykernel)",
   "language": "python",
   "name": "python3"
  },
  "language_info": {
   "codemirror_mode": {
    "name": "ipython",
    "version": 3
   },
   "file_extension": ".py",
   "mimetype": "text/x-python",
   "name": "python",
   "nbconvert_exporter": "python",
   "pygments_lexer": "ipython3",
   "version": "3.10.5"
  }
 },
 "nbformat": 4,
 "nbformat_minor": 5
}
